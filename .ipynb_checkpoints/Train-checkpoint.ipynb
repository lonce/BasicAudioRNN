{
 "cells": [
  {
   "cell_type": "code",
   "execution_count": 1,
   "id": "7e134c1c-a639-46e5-84c2-0ca476933796",
   "metadata": {},
   "outputs": [],
   "source": [
    "# ---- Imports ----\n",
    "import os\n",
    "import shutil\n",
    "import random\n",
    "import numpy as np\n",
    "import torch\n",
    "from torch.utils.tensorboard import SummaryWriter\n",
    "from torch.utils.data import DataLoader\n",
    "import torch.nn.functional as F\n",
    "\n",
    "from datetime import datetime"
   ]
  },
  {
   "cell_type": "code",
   "execution_count": 2,
   "id": "cec85fa5-52b1-4dc5-b12c-acbe2ef3d3bd",
   "metadata": {},
   "outputs": [],
   "source": [
    "from model.gru_audio_model import GRUAudioModel, GRUAudioConfig\n",
    "from model.audio_dataset import AudioDatasetConfig, MuLawAudioDataset"
   ]
  },
  {
   "cell_type": "code",
   "execution_count": 3,
   "id": "e069911d-aa67-45c1-9e83-8b3479dca86c",
   "metadata": {},
   "outputs": [
    {
     "name": "stdout",
     "output_type": "stream",
     "text": [
      "Using device: cuda\n",
      "Model config: GRUAudioConfig(num_conditioning_params=1, hidden_size=48, num_layers=4, dropout=0.1)\n"
     ]
    }
   ],
   "source": [
    "# ---- Training Settings ----\n",
    "out_dir = \"output/synthodd_\"+ datetime.now().strftime(\"%Y.%m.%d_%H.%M\")\n",
    "learning_rate = 1e-4\n",
    "batch_size = 24\n",
    "num_epochs = 0\n",
    "model_save_every = 50\n",
    "\n",
    "validation_data_dir = None # \"data/val\"  # or None\n",
    "resume_checkpoint = None  # e.g., \"output/run1/checkpoints/epoch_10.pt\"\n",
    "\n",
    "# ---- Set Random Seeds ----\n",
    "torch.manual_seed(42)\n",
    "np.random.seed(42)\n",
    "random.seed(42)\n",
    "\n",
    "# ---- Device ----\n",
    "device = torch.device(\"cuda\" if torch.cuda.is_available() else \"cpu\")\n",
    "print(\"Using device:\", device)\n",
    "\n",
    "# ---- Model + Dataset Config ----\n",
    "model_config = GRUAudioConfig(\n",
    "    num_conditioning_params=1,  #make sure this is correct!\n",
    "    hidden_size=48,\n",
    "    num_layers=4,\n",
    "    dropout=0.1\n",
    ")\n",
    "print(\"Model config:\", model_config)\n",
    "\n",
    "data_config = AudioDatasetConfig(\n",
    "    data_dir=\"data/MuMeRNN/data/synthodd16\",\n",
    "    sequence_length=256,\n",
    "    parameter_specs={\"mp\": (52, 76)}, #, \"mod\": (0.0, 1.0)} #filenames hjskadhflda_p1xx.xx_p2xx.xx......wav\n",
    "    add_noise= True,                        # Whether to add white noise\n",
    "    snr_db= 10.0                           # Desired signal-to-noise ratio (dB)\n",
    ")"
   ]
  },
  {
   "cell_type": "code",
   "execution_count": 4,
   "id": "b172a95b-9974-4133-b0df-fe2eec066c98",
   "metadata": {},
   "outputs": [],
   "source": [
    "# ---- Create Output Folders ----\n",
    "os.makedirs(out_dir, exist_ok=True)\n",
    "os.makedirs(f\"{out_dir}/checkpoints\", exist_ok=True)\n",
    "os.makedirs(f\"{out_dir}/tensorboard\", exist_ok=True)\n",
    "\n",
    "# ---- Save Config ----\n",
    "\n",
    "#machine readable\n",
    "torch.save({\n",
    "    \"model_config\": model_config,\n",
    "    \"data_config\": data_config\n",
    "}, f\"{out_dir}/config.pt\")\n",
    "\n",
    "#human readable\n",
    "with open(f\"{out_dir}/config.txt\", \"w\") as f:\n",
    "    f.write(\"model_config = \" + repr(model_config) + \"\\\\n\")\n",
    "    f.write(\"data_config = \" + repr(data_config) + \"\\\\n\")\n",
    "\n",
    "# ---- Load Datasets ----\n",
    "train_ds = MuLawAudioDataset(data_config)\n",
    "train_dl = DataLoader(train_ds, batch_size=batch_size, shuffle=True)\n",
    "\n",
    "val_dl = None\n",
    "if validation_data_dir:\n",
    "    val_config = AudioDatasetConfig(\n",
    "        data_dir=validation_data_dir,\n",
    "        sequence_length=data_config.sequence_length,\n",
    "        parameter_specs=data_config.parameter_specs\n",
    "    )\n",
    "    val_ds = MuLawAudioDataset(val_config)\n",
    "    val_dl = DataLoader(val_ds, batch_size=batch_size)"
   ]
  },
  {
   "cell_type": "code",
   "execution_count": 5,
   "id": "6f9b647c-9969-424c-b714-10018500f0a2",
   "metadata": {},
   "outputs": [],
   "source": [
    "# ---- Initialize Model ----\n",
    "model = GRUAudioModel(model_config).to(device)\n",
    "optimizer = torch.optim.Adam(model.parameters(), lr=learning_rate)\n",
    "scheduler = torch.optim.lr_scheduler.StepLR(optimizer, step_size=10, gamma=0.5)"
   ]
  },
  {
   "cell_type": "code",
   "execution_count": 10,
   "id": "70319cb4-70d4-418b-8c36-17bbf0ee53f7",
   "metadata": {},
   "outputs": [
    {
     "ename": "NameError",
     "evalue": "name 'epoch' is not defined",
     "output_type": "error",
     "traceback": [
      "\u001b[31m---------------------------------------------------------------------------\u001b[39m",
      "\u001b[31mNameError\u001b[39m                                 Traceback (most recent call last)",
      "\u001b[36mCell\u001b[39m\u001b[36m \u001b[39m\u001b[32mIn[10]\u001b[39m\u001b[32m, line 16\u001b[39m\n\u001b[32m     12\u001b[39m \u001b[38;5;66;03m# ------------------------------\u001b[39;00m\n\u001b[32m     13\u001b[39m \u001b[38;5;66;03m# SANITY CHECK - save untrained model\u001b[39;00m\n\u001b[32m     14\u001b[39m save_path = \u001b[33mf\u001b[39m\u001b[33m\"\u001b[39m\u001b[38;5;132;01m{\u001b[39;00mout_dir\u001b[38;5;132;01m}\u001b[39;00m\u001b[33m/checkpoints/epoch_\u001b[39m\u001b[38;5;132;01m{\u001b[39;00m\u001b[32m0\u001b[39m\u001b[38;5;132;01m}\u001b[39;00m\u001b[33m.pt\u001b[39m\u001b[33m\"\u001b[39m\n\u001b[32m     15\u001b[39m torch.save({\n\u001b[32m---> \u001b[39m\u001b[32m16\u001b[39m     \u001b[33m'\u001b[39m\u001b[33mepoch\u001b[39m\u001b[33m'\u001b[39m: epoch,\n\u001b[32m     17\u001b[39m     \u001b[33m'\u001b[39m\u001b[33mmodel\u001b[39m\u001b[33m'\u001b[39m: model.state_dict(),\n\u001b[32m     18\u001b[39m     \u001b[33m'\u001b[39m\u001b[33moptimizer\u001b[39m\u001b[33m'\u001b[39m: optimizer.state_dict(),\n\u001b[32m     19\u001b[39m }, save_path)\n\u001b[32m     20\u001b[39m \u001b[38;5;28mprint\u001b[39m(\u001b[33mf\u001b[39m\u001b[33m\"\u001b[39m\u001b[33mSaved checkpoint: \u001b[39m\u001b[38;5;132;01m{\u001b[39;00msave_path\u001b[38;5;132;01m}\u001b[39;00m\u001b[33m\"\u001b[39m)\n\u001b[32m     22\u001b[39m \u001b[38;5;66;03m# ---- Training Loop ----\u001b[39;00m\n",
      "\u001b[31mNameError\u001b[39m: name 'epoch' is not defined"
     ]
    }
   ],
   "source": [
    "start_epoch = 1\n",
    "if resume_checkpoint:\n",
    "    checkpoint = torch.load(resume_checkpoint, map_location=device)\n",
    "    model.load_state_dict(checkpoint['model'])\n",
    "    optimizer.load_state_dict(checkpoint['optimizer'])\n",
    "    start_epoch = checkpoint['epoch'] + 1\n",
    "    print(f\"Resumed from epoch {start_epoch}\")\n",
    "\n",
    "# ---- TensorBoard ----\n",
    "writer = SummaryWriter(log_dir=f\"{out_dir}/tensorboard\")\n",
    "\n",
    "# ------------------------------\n",
    "# SANITY CHECK - save untrained model\n",
    "save_path = f\"{out_dir}/checkpoints/epoch_{0}.pt\"\n",
    "torch.save({\n",
    "    'epoch': 0,\n",
    "    'model': model.state_dict(),\n",
    "    'optimizer': optimizer.state_dict(),\n",
    "}, save_path)\n",
    "print(f\"Saved checkpoint: {save_path}\")\n",
    "\n",
    "# ---- Training Loop ----\n",
    "for epoch in range(start_epoch, num_epochs + 1):\n",
    "    model.train()\n",
    "    total_loss = 0.0\n",
    "\n",
    "    for batch in train_dl:\n",
    "        x, cond, y = [b.to(device) for b in batch]  # [B,T-1], [B,T-1,p], [B,T-1]\n",
    "        #print(f\"shape of x = {x.shape}, cond = {cond.shape}, and y = {y.shape}\")\n",
    "\n",
    "        optimizer.zero_grad()\n",
    "        logits = model(x, cond)  # [B,T-1,256]\n",
    "        loss = F.cross_entropy(logits.view(-1, 256), y.view(-1))\n",
    "        loss.backward()\n",
    "        optimizer.step()\n",
    "\n",
    "        total_loss += loss.item()\n",
    "\n",
    "    avg_train_loss = total_loss / len(train_dl)\n",
    "    writer.add_scalar(\"Loss/train\", avg_train_loss, epoch)\n",
    "    print(f\"Epoch {epoch} | Train Loss: {avg_train_loss:.4f}\")\n",
    "\n",
    "    # ---- Validation ----\n",
    "    if val_dl:\n",
    "        model.eval()\n",
    "        val_loss = 0.0\n",
    "        with torch.no_grad():\n",
    "            for batch in val_dl:\n",
    "                x, cond, y = [b.to(device) for b in batch]\n",
    "                logits = model(x, cond)\n",
    "                loss = F.cross_entropy(logits.view(-1, 256), y.view(-1))\n",
    "                val_loss += loss.item()\n",
    "\n",
    "        avg_val_loss = val_loss / len(val_dl)\n",
    "        writer.add_scalar(\"Loss/val\", avg_val_loss, epoch)\n",
    "        print(f\"Epoch {epoch} | Val Loss: {avg_val_loss:.4f}\")\n",
    "\n",
    "    scheduler.step()\n",
    "\n",
    "    # ---- Save Checkpoint ----\n",
    "    if epoch % model_save_every == 0 or epoch == num_epochs:\n",
    "        save_path = f\"{out_dir}/checkpoints/epoch_{epoch}.pt\"\n",
    "        torch.save({\n",
    "            'epoch': epoch,\n",
    "            'model': model.state_dict(),\n",
    "            'optimizer': optimizer.state_dict(),\n",
    "        }, save_path)\n",
    "        print(f\"Saved checkpoint: {save_path}\")\n",
    "\n",
    "writer.close()"
   ]
  },
  {
   "cell_type": "code",
   "execution_count": 7,
   "id": "9c16db24-d151-4d72-ab28-56a4f398a9fa",
   "metadata": {},
   "outputs": [],
   "source": [
    "# %load_ext tensorboard\n",
    "# %tensorboard --logdir output --port 6011"
   ]
  },
  {
   "cell_type": "code",
   "execution_count": null,
   "id": "0fb8ebd8-151c-4b65-acf8-caf83c3a626b",
   "metadata": {},
   "outputs": [],
   "source": []
  }
 ],
 "metadata": {
  "kernelspec": {
   "display_name": "Python 3 (ipykernel)",
   "language": "python",
   "name": "python3"
  },
  "language_info": {
   "codemirror_mode": {
    "name": "ipython",
    "version": 3
   },
   "file_extension": ".py",
   "mimetype": "text/x-python",
   "name": "python",
   "nbconvert_exporter": "python",
   "pygments_lexer": "ipython3",
   "version": "3.12.9"
  }
 },
 "nbformat": 4,
 "nbformat_minor": 5
}
