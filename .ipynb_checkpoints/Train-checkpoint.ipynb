{
 "cells": [
  {
   "cell_type": "code",
   "execution_count": 5,
   "id": "7e134c1c-a639-46e5-84c2-0ca476933796",
   "metadata": {},
   "outputs": [],
   "source": [
    "# ---- Imports ----\n",
    "import os\n",
    "import shutil\n",
    "import random\n",
    "import numpy as np\n",
    "import torch\n",
    "from torch.utils.tensorboard import SummaryWriter\n",
    "from torch.utils.data import DataLoader\n",
    "import torch.nn.functional as F\n",
    "\n",
    "from datetime import datetime"
   ]
  },
  {
   "cell_type": "code",
   "execution_count": 6,
   "id": "cec85fa5-52b1-4dc5-b12c-acbe2ef3d3bd",
   "metadata": {},
   "outputs": [],
   "source": [
    "from model.gru_audio_model import GRUAudioModel, GRUAudioConfig\n",
    "from model.audio_dataset import AudioDatasetConfig, MuLawAudioDataset"
   ]
  },
  {
   "cell_type": "code",
   "execution_count": 9,
   "id": "e069911d-aa67-45c1-9e83-8b3479dca86c",
   "metadata": {},
   "outputs": [
    {
     "name": "stdout",
     "output_type": "stream",
     "text": [
      "Using device: cuda\n",
      "Model config: GRUAudioConfig(num_conditioning_params=2, embedding_dim=16, hidden_size=128, num_layers=2, dropout=0.1)\n"
     ]
    }
   ],
   "source": [
    "# ---- Training Settings ----\n",
    "out_dir = \"output/\"+ datetime.now().strftime(\"%Y.%m.%d_%H.%M\")\n",
    "model_save_every = 2\n",
    "learning_rate = 1e-3\n",
    "batch_size = 32\n",
    "num_epochs = 2\n",
    "validation_data_dir = None # \"data/val\"  # or None\n",
    "resume_checkpoint = None  # e.g., \"output/run1/checkpoints/epoch_10.pt\"\n",
    "\n",
    "# ---- Set Random Seeds ----\n",
    "torch.manual_seed(42)\n",
    "np.random.seed(42)\n",
    "random.seed(42)\n",
    "\n",
    "# ---- Device ----\n",
    "device = torch.device(\"cuda\" if torch.cuda.is_available() else \"cpu\")\n",
    "print(\"Using device:\", device)\n",
    "\n",
    "# ---- Model + Dataset Config ----\n",
    "model_config = GRUAudioConfig(\n",
    "    num_conditioning_params=2,\n",
    "    embedding_dim=16,\n",
    "    hidden_size=24, #128,\n",
    "    num_layers=2,\n",
    "    dropout=0.1\n",
    ")\n",
    "print(\"Model config:\", model_config)\n",
    "\n",
    "data_config = AudioDatasetConfig(\n",
    "    data_dir=\"data/PoissonGeiger68_16k\",\n",
    "    sequence_length=1024,\n",
    "    parameter_specs={\"r\": (0, 3)} #, \"mod\": (0.0, 1.0)}\n",
    ")"
   ]
  },
  {
   "cell_type": "code",
   "execution_count": 8,
   "id": "b172a95b-9974-4133-b0df-fe2eec066c98",
   "metadata": {},
   "outputs": [
    {
     "ename": "ValueError",
     "evalue": "num_samples should be a positive integer value, but got num_samples=0",
     "output_type": "error",
     "traceback": [
      "\u001b[31m---------------------------------------------------------------------------\u001b[39m",
      "\u001b[31mValueError\u001b[39m                                Traceback (most recent call last)",
      "\u001b[36mCell\u001b[39m\u001b[36m \u001b[39m\u001b[32mIn[8]\u001b[39m\u001b[32m, line 14\u001b[39m\n\u001b[32m     12\u001b[39m \u001b[38;5;66;03m# ---- Load Datasets ----\u001b[39;00m\n\u001b[32m     13\u001b[39m train_ds = MuLawAudioDataset(data_config)\n\u001b[32m---> \u001b[39m\u001b[32m14\u001b[39m train_dl = DataLoader(train_ds, batch_size=batch_size, shuffle=\u001b[38;5;28;01mTrue\u001b[39;00m)\n\u001b[32m     16\u001b[39m val_dl = \u001b[38;5;28;01mNone\u001b[39;00m\n\u001b[32m     17\u001b[39m \u001b[38;5;28;01mif\u001b[39;00m validation_data_dir:\n",
      "\u001b[36mFile \u001b[39m\u001b[32m~/miniconda3/envs/basicaudio/lib/python3.12/site-packages/torch/utils/data/dataloader.py:385\u001b[39m, in \u001b[36mDataLoader.__init__\u001b[39m\u001b[34m(self, dataset, batch_size, shuffle, sampler, batch_sampler, num_workers, collate_fn, pin_memory, drop_last, timeout, worker_init_fn, multiprocessing_context, generator, prefetch_factor, persistent_workers, pin_memory_device, in_order)\u001b[39m\n\u001b[32m    383\u001b[39m \u001b[38;5;28;01melse\u001b[39;00m:  \u001b[38;5;66;03m# map-style\u001b[39;00m\n\u001b[32m    384\u001b[39m     \u001b[38;5;28;01mif\u001b[39;00m shuffle:\n\u001b[32m--> \u001b[39m\u001b[32m385\u001b[39m         sampler = RandomSampler(dataset, generator=generator)  \u001b[38;5;66;03m# type: ignore[arg-type]\u001b[39;00m\n\u001b[32m    386\u001b[39m     \u001b[38;5;28;01melse\u001b[39;00m:\n\u001b[32m    387\u001b[39m         sampler = SequentialSampler(dataset)  \u001b[38;5;66;03m# type: ignore[arg-type]\u001b[39;00m\n",
      "\u001b[36mFile \u001b[39m\u001b[32m~/miniconda3/envs/basicaudio/lib/python3.12/site-packages/torch/utils/data/sampler.py:156\u001b[39m, in \u001b[36mRandomSampler.__init__\u001b[39m\u001b[34m(self, data_source, replacement, num_samples, generator)\u001b[39m\n\u001b[32m    151\u001b[39m     \u001b[38;5;28;01mraise\u001b[39;00m \u001b[38;5;167;01mTypeError\u001b[39;00m(\n\u001b[32m    152\u001b[39m         \u001b[33mf\u001b[39m\u001b[33m\"\u001b[39m\u001b[33mreplacement should be a boolean value, but got replacement=\u001b[39m\u001b[38;5;132;01m{\u001b[39;00m\u001b[38;5;28mself\u001b[39m.replacement\u001b[38;5;132;01m}\u001b[39;00m\u001b[33m\"\u001b[39m\n\u001b[32m    153\u001b[39m     )\n\u001b[32m    155\u001b[39m \u001b[38;5;28;01mif\u001b[39;00m \u001b[38;5;129;01mnot\u001b[39;00m \u001b[38;5;28misinstance\u001b[39m(\u001b[38;5;28mself\u001b[39m.num_samples, \u001b[38;5;28mint\u001b[39m) \u001b[38;5;129;01mor\u001b[39;00m \u001b[38;5;28mself\u001b[39m.num_samples <= \u001b[32m0\u001b[39m:\n\u001b[32m--> \u001b[39m\u001b[32m156\u001b[39m     \u001b[38;5;28;01mraise\u001b[39;00m \u001b[38;5;167;01mValueError\u001b[39;00m(\n\u001b[32m    157\u001b[39m         \u001b[33mf\u001b[39m\u001b[33m\"\u001b[39m\u001b[33mnum_samples should be a positive integer value, but got num_samples=\u001b[39m\u001b[38;5;132;01m{\u001b[39;00m\u001b[38;5;28mself\u001b[39m.num_samples\u001b[38;5;132;01m}\u001b[39;00m\u001b[33m\"\u001b[39m\n\u001b[32m    158\u001b[39m     )\n",
      "\u001b[31mValueError\u001b[39m: num_samples should be a positive integer value, but got num_samples=0"
     ]
    }
   ],
   "source": [
    "# ---- Create Output Folders ----\n",
    "os.makedirs(out_dir, exist_ok=True)\n",
    "os.makedirs(f\"{out_dir}/checkpoints\", exist_ok=True)\n",
    "os.makedirs(f\"{out_dir}/tensorboard\", exist_ok=True)\n",
    "\n",
    "# ---- Save Config ----\n",
    "with open(f\"{out_dir}/config.txt\", \"w\") as f:\n",
    "    f.write(str(model_config))\n",
    "    f.write(\"\\n\")\n",
    "    f.write(str(data_config))\n",
    "\n",
    "# ---- Load Datasets ----\n",
    "train_ds = MuLawAudioDataset(data_config)\n",
    "train_dl = DataLoader(train_ds, batch_size=batch_size, shuffle=True)\n",
    "\n",
    "val_dl = None\n",
    "if validation_data_dir:\n",
    "    val_config = AudioDatasetConfig(\n",
    "        data_dir=validation_data_dir,\n",
    "        sequence_length=data_config.sequence_length,\n",
    "        parameter_specs=data_config.parameter_specs\n",
    "    )\n",
    "    val_ds = MuLawAudioDataset(val_config)\n",
    "    val_dl = DataLoader(val_ds, batch_size=batch_size)"
   ]
  },
  {
   "cell_type": "code",
   "execution_count": null,
   "id": "aaaef6e3-8dff-45e9-95b4-7cca8a7a9037",
   "metadata": {},
   "outputs": [],
   "source": [
    "# ---- Initialize Model ----\n",
    "model = GRUAudioModel(model_config).to(device)\n",
    "optimizer = torch.optim.Adam(model.parameters(), lr=learning_rate)\n",
    "scheduler = torch.optim.lr_scheduler.StepLR(optimizer, step_size=10, gamma=0.5)\n",
    "\n",
    "start_epoch = 1\n",
    "if resume_checkpoint:\n",
    "    checkpoint = torch.load(resume_checkpoint, map_location=device)\n",
    "    model.load_state_dict(checkpoint['model'])\n",
    "    optimizer.load_state_dict(checkpoint['optimizer'])\n",
    "    start_epoch = checkpoint['epoch'] + 1\n",
    "    print(f\"Resumed from epoch {start_epoch}\")\n",
    "\n",
    "# ---- TensorBoard ----\n",
    "writer = SummaryWriter(log_dir=f\"{out_dir}/tensorboard\")\n",
    "\n",
    "# ---- Training Loop ----\n",
    "for epoch in range(start_epoch, num_epochs + 1):\n",
    "    model.train()\n",
    "    total_loss = 0.0\n",
    "\n",
    "    for batch in train_dl:\n",
    "        x, cond, y = [b.to(device) for b in batch]  # [B,T-1], [B,T-1,p], [B,T-1]\n",
    "\n",
    "        optimizer.zero_grad()\n",
    "        logits = model(x, cond)  # [B,T-1,256]\n",
    "        loss = F.cross_entropy(logits.view(-1, 256), y.view(-1))\n",
    "        loss.backward()\n",
    "        optimizer.step()\n",
    "\n",
    "        total_loss += loss.item()\n",
    "\n",
    "    avg_train_loss = total_loss / len(train_dl)\n",
    "    writer.add_scalar(\"Loss/train\", avg_train_loss, epoch)\n",
    "    print(f\"Epoch {epoch} | Train Loss: {avg_train_loss:.4f}\")\n",
    "\n",
    "    # ---- Validation ----\n",
    "    if val_dl:\n",
    "        model.eval()\n",
    "        val_loss = 0.0\n",
    "        with torch.no_grad():\n",
    "            for batch in val_dl:\n",
    "                x, cond, y = [b.to(device) for b in batch]\n",
    "                logits = model(x, cond)\n",
    "                loss = F.cross_entropy(logits.view(-1, 256), y.view(-1))\n",
    "                val_loss += loss.item()\n",
    "\n",
    "        avg_val_loss = val_loss / len(val_dl)\n",
    "        writer.add_scalar(\"Loss/val\", avg_val_loss, epoch)\n",
    "        print(f\"Epoch {epoch} | Val Loss: {avg_val_loss:.4f}\")\n",
    "\n",
    "    scheduler.step()\n",
    "\n",
    "    # ---- Save Checkpoint ----\n",
    "    if epoch % model_save_every == 0 or epoch == num_epochs:\n",
    "        save_path = f\"{out_dir}/checkpoints/epoch_{epoch}.pt\"\n",
    "        torch.save({\n",
    "            'epoch': epoch,\n",
    "            'model': model.state_dict(),\n",
    "            'optimizer': optimizer.state_dict(),\n",
    "        }, save_path)\n",
    "        print(f\"Saved checkpoint: {save_path}\")\n",
    "\n",
    "writer.close()"
   ]
  }
 ],
 "metadata": {
  "kernelspec": {
   "display_name": "Python 3 (ipykernel)",
   "language": "python",
   "name": "python3"
  },
  "language_info": {
   "codemirror_mode": {
    "name": "ipython",
    "version": 3
   },
   "file_extension": ".py",
   "mimetype": "text/x-python",
   "name": "python",
   "nbconvert_exporter": "python",
   "pygments_lexer": "ipython3",
   "version": "3.12.9"
  }
 },
 "nbformat": 4,
 "nbformat_minor": 5
}
