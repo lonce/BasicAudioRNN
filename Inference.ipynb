{
 "cells": [
  {
   "cell_type": "code",
   "execution_count": 1,
   "id": "44e7385c-5cf5-42cc-af83-bfc439143662",
   "metadata": {},
   "outputs": [],
   "source": [
    "import numpy as np\n",
    "import torch\n",
    "from model.gru_audio_model import GRUAudioModel, GRUAudioConfig, top_n_sample\n",
    "from model.mulaw import mu_law_decode\n",
    "\n",
    "# Listen or plot\n",
    "import matplotlib.pyplot as plt\n",
    "from IPython.display import Audio\n"
   ]
  },
  {
   "cell_type": "code",
   "execution_count": 2,
   "id": "f271f4c1-8550-42c5-b8fd-0e4e9386b9ca",
   "metadata": {},
   "outputs": [],
   "source": [
    "#rundir=\"output/synthodd_2025.07.27_16.56\"\n",
    "#rundir=\"output/nsynth.64.76_2025.07.27_18.04\"\n",
    "rundir=\"output/sine_data\"\n",
    "\n",
    "#ckpt_path = rundir+\"/checkpoints/epoch_0.pt\"\n",
    "#ckpt_path = rundir+\"/checkpoints/epoch_100.pt\"\n",
    "ckpt_path = rundir+\"/checkpoints/epoch_100.pt\"\n",
    "\n",
    "config_path = rundir+\"/config.pt\"\n",
    "device = torch.device(\"cuda\" if torch.cuda.is_available() else \"cpu\")"
   ]
  },
  {
   "cell_type": "code",
   "execution_count": 3,
   "id": "f746abb3-6b71-4f7e-9f97-f3f434ea6312",
   "metadata": {},
   "outputs": [],
   "source": [
    "# for generating parameters\n",
    "\n",
    "def generate_condition_tensor(sr: int, duration: float, *param_specs) -> torch.FloatTensor:\n",
    "    \"\"\"\n",
    "    Generate a [T, p] conditioning parameter tensor.\n",
    "\n",
    "    Args:\n",
    "        sr: Sample rate (samples per second)\n",
    "        duration: Duration in seconds\n",
    "        *param_specs: One list per parameter:\n",
    "            [wave_type: str, phase: float (optional), cycles: float, scale: float (optional)]\n",
    "\n",
    "    Returns:\n",
    "        Tensor of shape [T, p] with values in [0,1]\n",
    "    \"\"\"\n",
    "    T = int(sr * duration)\n",
    "    t = np.linspace(0, duration, T, endpoint=False)  # time axis in seconds\n",
    "    out = []\n",
    "\n",
    "    for spec in param_specs:\n",
    "        wave_type = spec[0]\n",
    "        phase = spec[1] if len(spec) > 1 else 0.0\n",
    "        cycles = spec[2] if len(spec) > 2 else 1.0\n",
    "        scale = spec[3] if len(spec) > 3 else 1.0\n",
    "\n",
    "        freq = cycles / duration\n",
    "        radians = 2 * np.pi * freq * t + phase\n",
    "\n",
    "        if wave_type == \"sin\":\n",
    "            wave = np.sin(radians)\n",
    "        elif wave_type == \"sawtooth\":\n",
    "            wave = 2 * (radians / (2 * np.pi) % 1) - 1  # ramp from -1 to 1\n",
    "        elif wave_type == \"triangle\":\n",
    "            wave = 2 * np.abs(2 * (radians / (2 * np.pi) % 1) - 1) - 1\n",
    "        elif wave_type == \"square\":\n",
    "            wave = np.sign(np.sin(radians))\n",
    "        else:\n",
    "            raise ValueError(f\"Unknown wave type: {wave_type}\")\n",
    "\n",
    "        wave = (wave * 0.5 + 0.5) * scale  # Normalize to [0,1] and apply scale\n",
    "        out.append(wave)\n",
    "\n",
    "    result = np.stack(out, axis=-1)  # shape [T, p]\n",
    "    return torch.tensor(result, dtype=torch.float32)\n",
    "\n",
    "def plot_condition_tensor(cond_tensor: torch.FloatTensor, sr: int):\n",
    "    \"\"\"\n",
    "    Plot conditioning tensor of shape [T, p] with time in seconds on the x-axis.\n",
    "    \"\"\"\n",
    "    T, p = cond_tensor.shape\n",
    "    time = torch.arange(T) / sr\n",
    "\n",
    "    plt.figure(figsize=(12, 4))\n",
    "    for i in range(p):\n",
    "        plt.plot(time, cond_tensor[:, i], label=f'Param {i+1}')\n",
    "    \n",
    "    plt.xlabel(\"Time (s)\")\n",
    "    plt.ylabel(\"Normalized value\")\n",
    "    plt.title(\"Conditioning Parameters\")\n",
    "    plt.legend()\n",
    "    plt.grid(True)\n",
    "    plt.tight_layout()\n",
    "    plt.show()\n"
   ]
  },
  {
   "cell_type": "code",
   "execution_count": 16,
   "id": "4660bb53-e096-47fa-849e-e427ab2e9777",
   "metadata": {},
   "outputs": [
    {
     "data": {
      "image/png": "[encoded data removed]",
      "text/plain": [
       "<Figure size 1200x400 with 1 Axes>"
      ]
     },
     "metadata": {},
     "output_type": "display_data"
    },
    {
     "data": {
      "text/plain": [
       "torch.Size([160, 1])"
      ]
     },
     "execution_count": 16,
     "metadata": {},
     "output_type": "execute_result"
    }
   ],
   "source": [
    "#cond_tensor = generate_condition_tensor(16000, 1, [\"square\", 0.1, .05, .5], [\"square\", 0.1, .05, .5], [\"square\", 0.1, .05, .5])\n",
    "#cond_tensor = generate_condition_tensor(16000, 1, [\"square\", 0.1, .05, 1], [\"triangle\", 0, .5, 1], [\"triangle\", 0, 1, 1])\n",
    "cond_tensor = generate_condition_tensor(160, 1, [\"square\", 0.1, .05, 1])\n",
    "plot_condition_tensor(cond_tensor, 16000)\n",
    "cond_tensor.shape"
   ]
  },
  {
   "cell_type": "code",
   "execution_count": 17,
   "id": "1ad9fcef-8181-47c6-9c45-a470b64be4c7",
   "metadata": {},
   "outputs": [],
   "source": [
    "\n",
    "@torch.no_grad()\n",
    "def run_inference(model, cond_seq, warmup_steps=32, top_n=1, temperature=1.0, seed_token=127):\n",
    "    \"\"\"\n",
    "    model: GRUAudioModel (already on device, eval mode)\n",
    "    cond_seq: [T, p] FloatTensor of conditioning parameters (in [0,1])\n",
    "    warmup_steps: how many initial steps to repeat the first condition vector\n",
    "    top_n: sample from top-N of output logits\n",
    "    temperature: for choosing from the top_n = < 1 more contrasty pdf, > 1 flatter\n",
    "    seed_token: mu-law index (int in [0,255]) to seed the first audio input\n",
    "\n",
    "    Returns:\n",
    "        audio: FloatTensor in [-1,1] (decoded waveform)\n",
    "        generated_classes: list of sampled mu-law class indices\n",
    "    \"\"\"\n",
    "    device = next(model.parameters()).device\n",
    "    model.eval()\n",
    "\n",
    "    T, p = cond_seq.shape\n",
    "    cond_seq = cond_seq.to(device)\n",
    "    total_steps = warmup_steps + T\n",
    "\n",
    "    prev_token = torch.tensor([[seed_token / 255.0]], dtype=torch.float32, device=device)  # [1,1]\n",
    "    generated_classes = []\n",
    "\n",
    "    for t in range(total_steps):\n",
    "        cond_t = cond_seq[0] if t < warmup_steps else cond_seq[t - warmup_steps]\n",
    "        cond_t = cond_t.unsqueeze(0).unsqueeze(0)  # [1,1,p]\n",
    "\n",
    "        # print(f\"t {t}: x {prev_token}, p {cond_t[0,0,0]}\")\n",
    "        \n",
    "        logits = model(prev_token, cond_t)         # [1,1,256]\n",
    "        logits = logits.squeeze(1)                 # [1,256]\n",
    "        if (t == 8000) : \n",
    "            print(f\"Logits : {logits}\")\n",
    "        next_token = top_n_sample(logits, n=top_n, temperature=temperature) # [1]\n",
    "        generated_classes.append(next_token.item())\n",
    "\n",
    "        prev_token = next_token.float().unsqueeze(0) / 255.0  # [1,1]\n",
    "\n",
    "    generated_tensor = torch.tensor(generated_classes[warmup_steps:], dtype=torch.long, device=device)\n",
    "    audio = mu_law_decode(generated_tensor)\n",
    "    return audio.cpu(), generated_classes\n"
   ]
  },
  {
   "cell_type": "code",
   "execution_count": 18,
   "id": "556c0afb-5813-4ac4-a081-c92564863887",
   "metadata": {},
   "outputs": [],
   "source": [
    "from model.gru_audio_model import GRUAudioModel\n",
    "import torch"
   ]
  },
  {
   "cell_type": "code",
   "execution_count": 19,
   "id": "1b6dd01a-4c19-4c04-bfda-aa307fe1170b",
   "metadata": {},
   "outputs": [
    {
     "name": "stdout",
     "output_type": "stream",
     "text": [
      "output/sine_data/checkpoints/epoch_100.pt\n"
     ]
    }
   ],
   "source": [
    "!ls \"{ckpt_path}\""
   ]
  },
  {
   "cell_type": "code",
   "execution_count": 20,
   "id": "6c9926ff-f1a6-493e-9f55-f1d4e8480620",
   "metadata": {},
   "outputs": [
    {
     "name": "stdout",
     "output_type": "stream",
     "text": [
      "device = cuda\n",
      "model_config = GRUAudioConfig(num_conditioning_params=1, hidden_size=40, num_layers=4, dropout=0.1)\n",
      "data_config = AudioDatasetConfig(data_dir='data/sine_data', sequence_length=256, parameter_specs={'oct': (0, 3)}, add_noise=False, snr_db=10.0)\n"
     ]
    }
   ],
   "source": [
    "# Load model and data config from saved checkpoint\n",
    "\n",
    "cfg = torch.load(config_path, map_location=device, weights_only=False)\n",
    "model_config = cfg[\"model_config\"]\n",
    "data_config = cfg[\"data_config\"]\n",
    "\n",
    "print(f\"device = {device}\")\n",
    "print(f\"model_config = {model_config}\")\n",
    "print(f\"data_config = {data_config}\")"
   ]
  },
  {
   "cell_type": "code",
   "execution_count": 21,
   "id": "0e93b8a8-5248-470f-823d-39b53ed06b25",
   "metadata": {},
   "outputs": [
    {
     "name": "stdout",
     "output_type": "stream",
     "text": [
      "model = GRUAudioModel(\n",
      "  (input_proj): Linear(in_features=2, out_features=40, bias=True)\n",
      "  (gru): GRU(40, 40, num_layers=4, batch_first=True, dropout=0.1)\n",
      "  (output_proj): Linear(in_features=40, out_features=256, bias=True)\n",
      ")\n"
     ]
    },
    {
     "data": {
      "text/plain": [
       "GRUAudioModel(\n",
       "  (input_proj): Linear(in_features=2, out_features=40, bias=True)\n",
       "  (gru): GRU(40, 40, num_layers=4, batch_first=True, dropout=0.1)\n",
       "  (output_proj): Linear(in_features=40, out_features=256, bias=True)\n",
       ")"
      ]
     },
     "execution_count": 21,
     "metadata": {},
     "output_type": "execute_result"
    }
   ],
   "source": [
    "# Build and load model\n",
    "model = GRUAudioModel(model_config).to(device)\n",
    "print(f\"model = {model}\")\n",
    "\n",
    "model_ckpt = torch.load(ckpt_path, map_location=device)\n",
    "model.load_state_dict(model_ckpt[\"model\"])\n",
    "model.eval()\n"
   ]
  },
  {
   "cell_type": "code",
   "execution_count": 22,
   "id": "8416852a-7d31-43d5-a393-9c0deb5c8940",
   "metadata": {},
   "outputs": [],
   "source": [
    "# Assume model is already loaded and on device - tepm<1 contrast pdf, temp>1 flatten pdf\n",
    "audio_out, class_sequence = run_inference(model, cond_tensor, warmup_steps=0, top_n=1, temperature=1)"
   ]
  },
  {
   "cell_type": "code",
   "execution_count": 23,
   "id": "7903c839-a191-46d2-91bd-1d9ef4406d9f",
   "metadata": {},
   "outputs": [
    {
     "data": {
      "text/html": [
       "\n",
       "                <audio  controls=\"controls\" >\n",
       "                    <source src=\"data:audio/wav;base64,UklGRmQBAABXQVZFZm10IBAAAAABAAEAgD4AAAB9AAACABAAZGF0YUABAAD/f/9//3//f/9//3//f/9//3//f/9//3//f/9//3//f/9//3//f/9//3//f/9//3//f/9//3//f/9//3//f/9//3//f/9//3//f/9//3//f/9//3//f/9//3//f/9//3//f/9//3//f/9//3//f/9//3//f/9//3//f/9//3//f/9//3//f/9//3//f/9//3//f/9//3//f/9//3//f/9//3//f/9//3//f/9//3//f/9//3//f/9//3//f/9//3//f/9//3//f/9//3//f/9//3//f/9//3//f/9//3//f/9//3//f/9//3//f/9//3//f/9//3//f/9//3//f/9//3//f/9//3//f/9//3//f/9//3//f/9//3//f/9//3//f/9//3//f/9//3//f/9//3//f/9//3//f/9//3//fw==\" type=\"audio/wav\" />\n",
       "                    Your browser does not support the audio element.\n",
       "                </audio>\n",
       "              "
      ],
      "text/plain": [
       "<IPython.lib.display.Audio object>"
      ]
     },
     "execution_count": 23,
     "metadata": {},
     "output_type": "execute_result"
    },
    {
     "data": {
      "image/png": "[encoded data removed]",
      "text/plain": [
       "<Figure size 640x480 with 1 Axes>"
      ]
     },
     "metadata": {},
     "output_type": "display_data"
    }
   ],
   "source": [
    "plt.plot(audio_out)\n",
    "Audio(audio_out, rate=16000)"
   ]
  },
  {
   "cell_type": "code",
   "execution_count": 24,
   "id": "07211d02-b24a-432c-9ab8-8a9132e2127b",
   "metadata": {},
   "outputs": [
    {
     "data": {
      "text/plain": [
       "[252,\n",
       " 252,\n",
       " 252,\n",
       " 252,\n",
       " 252,\n",
       " 252,\n",
       " 252,\n",
       " 252,\n",
       " 252,\n",
       " 252,\n",
       " 252,\n",
       " 252,\n",
       " 252,\n",
       " 252,\n",
       " 252,\n",
       " 252,\n",
       " 252,\n",
       " 252,\n",
       " 252,\n",
       " 252,\n",
       " 252,\n",
       " 252,\n",
       " 252,\n",
       " 252,\n",
       " 252,\n",
       " 252,\n",
       " 252,\n",
       " 252,\n",
       " 252,\n",
       " 252,\n",
       " 252,\n",
       " 252,\n",
       " 252,\n",
       " 252,\n",
       " 252,\n",
       " 252,\n",
       " 252,\n",
       " 252,\n",
       " 252,\n",
       " 252,\n",
       " 252,\n",
       " 252,\n",
       " 252,\n",
       " 252,\n",
       " 252,\n",
       " 252,\n",
       " 252,\n",
       " 252,\n",
       " 252,\n",
       " 252,\n",
       " 252,\n",
       " 252,\n",
       " 252,\n",
       " 252,\n",
       " 252,\n",
       " 252,\n",
       " 252,\n",
       " 252,\n",
       " 252,\n",
       " 252,\n",
       " 252,\n",
       " 252,\n",
       " 252,\n",
       " 252,\n",
       " 252,\n",
       " 252,\n",
       " 252,\n",
       " 252,\n",
       " 252,\n",
       " 252,\n",
       " 252,\n",
       " 252,\n",
       " 252,\n",
       " 252,\n",
       " 252,\n",
       " 252,\n",
       " 252,\n",
       " 252,\n",
       " 252,\n",
       " 252,\n",
       " 252,\n",
       " 252,\n",
       " 252,\n",
       " 252,\n",
       " 252,\n",
       " 252,\n",
       " 252,\n",
       " 252,\n",
       " 252,\n",
       " 252,\n",
       " 252,\n",
       " 252,\n",
       " 252,\n",
       " 252,\n",
       " 252,\n",
       " 252,\n",
       " 252,\n",
       " 252,\n",
       " 252,\n",
       " 252,\n",
       " 252,\n",
       " 252,\n",
       " 252,\n",
       " 252,\n",
       " 252,\n",
       " 252,\n",
       " 252,\n",
       " 252,\n",
       " 252,\n",
       " 252,\n",
       " 252,\n",
       " 252,\n",
       " 252,\n",
       " 252,\n",
       " 252,\n",
       " 252,\n",
       " 252,\n",
       " 252,\n",
       " 252,\n",
       " 252,\n",
       " 252,\n",
       " 252,\n",
       " 252,\n",
       " 252,\n",
       " 252,\n",
       " 252,\n",
       " 252,\n",
       " 252,\n",
       " 252,\n",
       " 252,\n",
       " 252,\n",
       " 252,\n",
       " 252,\n",
       " 252,\n",
       " 252,\n",
       " 252,\n",
       " 252,\n",
       " 252,\n",
       " 252,\n",
       " 252,\n",
       " 252,\n",
       " 252,\n",
       " 252,\n",
       " 252,\n",
       " 252,\n",
       " 252,\n",
       " 252,\n",
       " 252,\n",
       " 252,\n",
       " 252,\n",
       " 252,\n",
       " 252,\n",
       " 252,\n",
       " 252,\n",
       " 252,\n",
       " 252,\n",
       " 252,\n",
       " 252,\n",
       " 252,\n",
       " 252]"
      ]
     },
     "execution_count": 24,
     "metadata": {},
     "output_type": "execute_result"
    }
   ],
   "source": [
    "class_sequence"
   ]
  },
  {
   "cell_type": "code",
   "execution_count": null,
   "id": "98b77202-2906-4fc7-b8ea-ed78e27777dd",
   "metadata": {},
   "outputs": [],
   "source": []
  },
  {
   "cell_type": "code",
   "execution_count": null,
   "id": "4b490ee0-8f45-4209-af12-bab4a51560d9",
   "metadata": {},
   "outputs": [],
   "source": []
  }
 ],
 "metadata": {
  "kernelspec": {
   "display_name": "Python 3 (ipykernel)",
   "language": "python",
   "name": "python3"
  },
  "language_info": {
   "codemirror_mode": {
    "name": "ipython",
    "version": 3
   },
   "file_extension": ".py",
   "mimetype": "text/x-python",
   "name": "python",
   "nbconvert_exporter": "python",
   "pygments_lexer": "ipython3",
   "version": "3.12.9"
  }
 },
 "nbformat": 4,
 "nbformat_minor": 5
}
